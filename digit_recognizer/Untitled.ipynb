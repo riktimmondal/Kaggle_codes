{
 "cells": [
  {
   "cell_type": "code",
   "execution_count": 1,
   "metadata": {},
   "outputs": [],
   "source": [
    "import torch \n",
    "import torch.nn as nn\n",
    "import torchvision\n",
    "import torchvision.transforms as transforms\n",
    "from torch.utils.data import Dataset,DataLoader\n",
    "from torch.autograd import Variable\n",
    "\n",
    "import pandas as pd\n",
    "import numpy as np\n",
    "import matplotlib.pyplot as plt\n",
    "%matplotlib inline"
   ]
  },
  {
   "cell_type": "code",
   "execution_count": 2,
   "metadata": {},
   "outputs": [
    {
     "name": "stdout",
     "output_type": "stream",
     "text": [
      "cuda\n"
     ]
    }
   ],
   "source": [
    "device = torch.device('cuda' if torch.cuda.is_available() else 'cpu')\n",
    "print(device)\n",
    "# Hyper parameters\n",
    "num_epochs = 5\n",
    "num_classes = 10\n",
    "batch_size = 21\n",
    "learning_rate = 0.001\n"
   ]
  },
  {
   "cell_type": "code",
   "execution_count": 3,
   "metadata": {},
   "outputs": [
    {
     "name": "stdout",
     "output_type": "stream",
     "text": [
      "(28000, 784)\n"
     ]
    }
   ],
   "source": [
    "train_data=pd.read_csv('train.csv')\n",
    "test_data=pd.read_csv('test.csv')\n",
    "print(test_data.shape)\n",
    "#test_data.head()"
   ]
  },
  {
   "cell_type": "code",
   "execution_count": 4,
   "metadata": {},
   "outputs": [
    {
     "name": "stdout",
     "output_type": "stream",
     "text": [
      "(28000, 784)\n",
      "<class 'numpy.ndarray'>\n"
     ]
    }
   ],
   "source": [
    "train_y=train_data.values[:,0]\n",
    "train_x=train_data.values[:,1:].astype(np.float32)\n",
    "test_x=test_data.values.astype(np.float32)\n",
    "print(test_x.shape)\n",
    "print(type(test_x))"
   ]
  },
  {
   "cell_type": "code",
   "execution_count": 5,
   "metadata": {},
   "outputs": [],
   "source": [
    "VALIDATION_PERCENT = 0\n",
    "num_train = len(train_y)\n",
    "num_val = int(num_train*VALIDATION_PERCENT)"
   ]
  },
  {
   "cell_type": "code",
   "execution_count": 6,
   "metadata": {},
   "outputs": [
    {
     "name": "stdout",
     "output_type": "stream",
     "text": [
      "<class 'numpy.ndarray'>\n",
      "<class 'torch.Tensor'>\n",
      "torch.Size([0])\n"
     ]
    }
   ],
   "source": [
    "train_x=train_x.reshape([-1,28,28,1]).transpose((0,3,1,2))\n",
    "test_x=test_x.reshape([-1,28,28,1]).transpose((0,3,1,2))\n",
    "\n",
    "print(type(train_x))\n",
    "\n",
    "val_x = train_x[0:num_val]\n",
    "val_y = train_y[0:num_val]\n",
    "train_x = train_x[num_val:]\n",
    "train_y = train_y[num_val:]\n",
    "\n",
    "train_x=torch.from_numpy(train_x)\n",
    "train_y=torch.from_numpy(train_y)\n",
    "val_x=torch.from_numpy(val_x)\n",
    "val_y=torch.from_numpy(val_y)\n",
    "\n",
    "#test_x=torch.from_numpy(test_x)\n",
    "print(type(val_x))\n",
    "print(val_y.shape)"
   ]
  },
  {
   "cell_type": "code",
   "execution_count": 7,
   "metadata": {},
   "outputs": [
    {
     "data": {
      "image/png": "[encoded data removed]",
      "text/plain": [
       "<Figure size 432x288 with 1 Axes>"
      ]
     },
     "metadata": {},
     "output_type": "display_data"
    },
    {
     "data": {
      "text/plain": [
       "tensor(1)"
      ]
     },
     "execution_count": 7,
     "metadata": {},
     "output_type": "execute_result"
    }
   ],
   "source": [
    "eg=test_x[0,0,:,:]\n",
    "plt.imshow(eg)\n",
    "plt.show()\n",
    "train_y[0]"
   ]
  },
  {
   "cell_type": "code",
   "execution_count": 8,
   "metadata": {},
   "outputs": [],
   "source": [
    "class MnistDataset(Dataset):\n",
    "    \n",
    "    def __init__(self, x, y=None):\n",
    "        self.data = x\n",
    "        self.labels = y\n",
    "        \n",
    "    def __len__(self):\n",
    "        return self.data.shape[0]\n",
    "    \n",
    "    def __getitem__(self, idx):\n",
    "        if self.labels is not None:\n",
    "            return self.data[idx], self.labels[idx]\n",
    "        else:\n",
    "            return self.data[idx]\n"
   ]
  },
  {
   "cell_type": "code",
   "execution_count": 9,
   "metadata": {},
   "outputs": [
    {
     "name": "stdout",
     "output_type": "stream",
     "text": [
      "2000\n",
      "0\n",
      "1334\n"
     ]
    }
   ],
   "source": [
    "train_dataset = MnistDataset(train_x, train_y)\n",
    "train_dataloader = DataLoader(train_dataset, batch_size=batch_size, shuffle=True)\n",
    "print(len(train_dataloader))\n",
    "\n",
    "val_dataset = MnistDataset(val_x, val_y)\n",
    "val_dataloader = DataLoader(val_dataset, batch_size=batch_size, shuffle=False)\n",
    "print(len(val_dataloader))\n",
    "\n",
    "test_dataset = MnistDataset(test_x)\n",
    "test_dataloader = DataLoader(test_dataset, batch_size=batch_size, shuffle=False)\n",
    "print(len(test_dataloader))"
   ]
  },
  {
   "cell_type": "code",
   "execution_count": 10,
   "metadata": {},
   "outputs": [],
   "source": [
    "class ConvNet(nn.Module):\n",
    "    def __init__(self, num_classes=10):\n",
    "        super(ConvNet, self).__init__()\n",
    "        self.layer1 = nn.Sequential(\n",
    "            nn.Conv2d(1, 16, kernel_size=5, stride=1, padding=2),\n",
    "            nn.BatchNorm2d(16),\n",
    "            nn.ReLU(),\n",
    "            nn.MaxPool2d(kernel_size=2, stride=2))\n",
    "        self.layer2 = nn.Sequential(\n",
    "            nn.Conv2d(16, 32, kernel_size=5, stride=1, padding=2),\n",
    "            nn.BatchNorm2d(32),\n",
    "            nn.ReLU(),\n",
    "            nn.MaxPool2d(kernel_size=2, stride=2))\n",
    "        self.fc = nn.Linear(7*7*32, num_classes)\n",
    "        \n",
    "    def forward(self, x):\n",
    "        out = self.layer1(x)\n",
    "        out = self.layer2(out)\n",
    "        out = out.reshape(out.size(0), -1)\n",
    "        out = self.fc(out)\n",
    "        return out\n",
    "\n",
    "model = ConvNet(num_classes).to(device)\n",
    "\n",
    "# Loss and optimizer\n",
    "criterion = nn.CrossEntropyLoss()\n",
    "optimizer = torch.optim.Adam(model.parameters(), lr=learning_rate)"
   ]
  },
  {
   "cell_type": "code",
   "execution_count": 11,
   "metadata": {},
   "outputs": [
    {
     "name": "stdout",
     "output_type": "stream",
     "text": [
      "Epoch [1/5], Step [100/2000], Loss: 0.1643\n",
      "Epoch [1/5], Step [200/2000], Loss: 0.2352\n",
      "Epoch [1/5], Step [300/2000], Loss: 0.1210\n",
      "Epoch [1/5], Step [400/2000], Loss: 0.0200\n",
      "Epoch [1/5], Step [500/2000], Loss: 0.0536\n",
      "Epoch [1/5], Step [600/2000], Loss: 0.0322\n",
      "Epoch [1/5], Step [700/2000], Loss: 0.0478\n",
      "Epoch [1/5], Step [800/2000], Loss: 0.0075\n",
      "Epoch [1/5], Step [900/2000], Loss: 0.1355\n",
      "Epoch [1/5], Step [1000/2000], Loss: 0.0793\n",
      "Epoch [1/5], Step [1100/2000], Loss: 0.0044\n",
      "Epoch [1/5], Step [1200/2000], Loss: 0.0050\n",
      "Epoch [1/5], Step [1300/2000], Loss: 0.1827\n",
      "Epoch [1/5], Step [1400/2000], Loss: 0.3404\n",
      "Epoch [1/5], Step [1500/2000], Loss: 0.1355\n",
      "Epoch [1/5], Step [1600/2000], Loss: 0.0354\n",
      "Epoch [1/5], Step [1700/2000], Loss: 0.0189\n",
      "Epoch [1/5], Step [1800/2000], Loss: 0.0155\n",
      "Epoch [1/5], Step [1900/2000], Loss: 0.6069\n",
      "Epoch [1/5], Step [2000/2000], Loss: 0.0399\n",
      "Epoch [2/5], Step [100/2000], Loss: 0.0103\n",
      "Epoch [2/5], Step [200/2000], Loss: 0.0031\n",
      "Epoch [2/5], Step [300/2000], Loss: 0.1926\n",
      "Epoch [2/5], Step [400/2000], Loss: 0.0039\n",
      "Epoch [2/5], Step [500/2000], Loss: 0.0418\n",
      "Epoch [2/5], Step [600/2000], Loss: 0.0717\n",
      "Epoch [2/5], Step [700/2000], Loss: 0.0596\n",
      "Epoch [2/5], Step [800/2000], Loss: 0.0374\n",
      "Epoch [2/5], Step [900/2000], Loss: 0.0100\n",
      "Epoch [2/5], Step [1000/2000], Loss: 0.0745\n",
      "Epoch [2/5], Step [1100/2000], Loss: 0.1891\n",
      "Epoch [2/5], Step [1200/2000], Loss: 0.0051\n",
      "Epoch [2/5], Step [1300/2000], Loss: 0.0170\n",
      "Epoch [2/5], Step [1400/2000], Loss: 0.0042\n",
      "Epoch [2/5], Step [1500/2000], Loss: 0.0340\n",
      "Epoch [2/5], Step [1600/2000], Loss: 0.0028\n",
      "Epoch [2/5], Step [1700/2000], Loss: 0.0082\n",
      "Epoch [2/5], Step [1800/2000], Loss: 0.0019\n",
      "Epoch [2/5], Step [1900/2000], Loss: 0.0028\n",
      "Epoch [2/5], Step [2000/2000], Loss: 0.0274\n",
      "Epoch [3/5], Step [100/2000], Loss: 0.0017\n",
      "Epoch [3/5], Step [200/2000], Loss: 0.0128\n",
      "Epoch [3/5], Step [300/2000], Loss: 0.0008\n",
      "Epoch [3/5], Step [400/2000], Loss: 0.0302\n",
      "Epoch [3/5], Step [500/2000], Loss: 0.1249\n",
      "Epoch [3/5], Step [600/2000], Loss: 0.0224\n",
      "Epoch [3/5], Step [700/2000], Loss: 0.1409\n",
      "Epoch [3/5], Step [800/2000], Loss: 0.0005\n",
      "Epoch [3/5], Step [900/2000], Loss: 0.0159\n",
      "Epoch [3/5], Step [1000/2000], Loss: 0.0629\n",
      "Epoch [3/5], Step [1100/2000], Loss: 0.0023\n",
      "Epoch [3/5], Step [1200/2000], Loss: 0.0025\n",
      "Epoch [3/5], Step [1300/2000], Loss: 0.0314\n",
      "Epoch [3/5], Step [1400/2000], Loss: 0.0289\n",
      "Epoch [3/5], Step [1500/2000], Loss: 0.0061\n",
      "Epoch [3/5], Step [1600/2000], Loss: 0.0084\n",
      "Epoch [3/5], Step [1700/2000], Loss: 0.0755\n",
      "Epoch [3/5], Step [1800/2000], Loss: 0.0019\n",
      "Epoch [3/5], Step [1900/2000], Loss: 0.0080\n",
      "Epoch [3/5], Step [2000/2000], Loss: 0.0026\n",
      "Epoch [4/5], Step [100/2000], Loss: 0.0033\n",
      "Epoch [4/5], Step [200/2000], Loss: 0.0093\n",
      "Epoch [4/5], Step [300/2000], Loss: 0.0048\n",
      "Epoch [4/5], Step [400/2000], Loss: 0.0018\n",
      "Epoch [4/5], Step [500/2000], Loss: 0.0049\n",
      "Epoch [4/5], Step [600/2000], Loss: 0.0356\n",
      "Epoch [4/5], Step [700/2000], Loss: 0.0018\n",
      "Epoch [4/5], Step [800/2000], Loss: 0.0253\n",
      "Epoch [4/5], Step [900/2000], Loss: 0.0004\n",
      "Epoch [4/5], Step [1000/2000], Loss: 0.1883\n",
      "Epoch [4/5], Step [1100/2000], Loss: 0.0161\n",
      "Epoch [4/5], Step [1200/2000], Loss: 0.0114\n",
      "Epoch [4/5], Step [1300/2000], Loss: 0.0125\n",
      "Epoch [4/5], Step [1400/2000], Loss: 0.0006\n",
      "Epoch [4/5], Step [1500/2000], Loss: 0.0030\n",
      "Epoch [4/5], Step [1600/2000], Loss: 0.0784\n",
      "Epoch [4/5], Step [1700/2000], Loss: 0.0053\n",
      "Epoch [4/5], Step [1800/2000], Loss: 0.0157\n",
      "Epoch [4/5], Step [1900/2000], Loss: 0.0325\n",
      "Epoch [4/5], Step [2000/2000], Loss: 0.0012\n",
      "Epoch [5/5], Step [100/2000], Loss: 0.0007\n",
      "Epoch [5/5], Step [200/2000], Loss: 0.2770\n",
      "Epoch [5/5], Step [300/2000], Loss: 0.0004\n",
      "Epoch [5/5], Step [400/2000], Loss: 0.0003\n",
      "Epoch [5/5], Step [500/2000], Loss: 0.0004\n",
      "Epoch [5/5], Step [600/2000], Loss: 0.0581\n",
      "Epoch [5/5], Step [700/2000], Loss: 0.0512\n",
      "Epoch [5/5], Step [800/2000], Loss: 0.0584\n",
      "Epoch [5/5], Step [900/2000], Loss: 0.0021\n",
      "Epoch [5/5], Step [1000/2000], Loss: 0.0003\n",
      "Epoch [5/5], Step [1100/2000], Loss: 0.0049\n",
      "Epoch [5/5], Step [1200/2000], Loss: 0.0004\n",
      "Epoch [5/5], Step [1300/2000], Loss: 0.0066\n",
      "Epoch [5/5], Step [1400/2000], Loss: 0.0299\n",
      "Epoch [5/5], Step [1500/2000], Loss: 0.0036\n",
      "Epoch [5/5], Step [1600/2000], Loss: 0.0194\n",
      "Epoch [5/5], Step [1700/2000], Loss: 0.2497\n",
      "Epoch [5/5], Step [1800/2000], Loss: 0.0006\n",
      "Epoch [5/5], Step [1900/2000], Loss: 0.0030\n",
      "Epoch [5/5], Step [2000/2000], Loss: 0.0015\n"
     ]
    }
   ],
   "source": [
    "total_step = len(train_dataloader)\n",
    "for epoch in range(num_epochs):\n",
    "    for i, (images, labels) in enumerate(train_dataloader):\n",
    "        images = images.to(device)\n",
    "        labels = labels.to(device)\n",
    "        \n",
    "        # Forward pass\n",
    "        outputs = model(images)\n",
    "        loss = criterion(outputs, labels)\n",
    "        \n",
    "        # Backward and optimize\n",
    "        optimizer.zero_grad()\n",
    "        loss.backward()\n",
    "        optimizer.step()\n",
    "        \n",
    "        if (i+1) % 100 == 0:\n",
    "            print ('Epoch [{}/{}], Step [{}/{}], Loss: {:.4f}' \n",
    "                   .format(epoch+1, num_epochs, i+1, total_step, loss.item()))\n"
   ]
  },
  {
   "cell_type": "code",
   "execution_count": 12,
   "metadata": {},
   "outputs": [],
   "source": [
    "# model.eval()  # eval mode (batchnorm uses moving mean/variance instead of mini-batch mean/variance)\n",
    "# ans = torch.cuda.LongTensor() #build a tensor to concatenate answers\n",
    "# with torch.no_grad():\n",
    "#     correct = 0\n",
    "#     total = 0\n",
    "#     for images,labels in val_dataloader:\n",
    "#         images = images.to(device)\n",
    "#         labels = labels.to(device)\n",
    "#         outputs = model(images)\n",
    "#         _, predicted = torch.max(outputs.data, 1)\n",
    "#         total += labels.size(0)\n",
    "#         print(total)\n",
    "#         correct += (predicted == labels).sum().item()\n",
    "#         ans = torch.cat((ans,predicted),0)\n",
    "\n",
    "#     print('Test Accuracy of the model on the 10000 test images: {} %'.format(100 * correct / total))\n",
    "\n",
    "# ans = ans.cpu().numpy() \n",
    "\n",
    "# aa = pd.DataFrame(ans)\n",
    "# aa.columns = ['Label']\n",
    "# Id = range(1,aa.size+1)\n",
    "# aa.insert(0, 'ImageId', Id)               #bulid the summit csv\n",
    "\n",
    "# aa.to_csv('submit_pytorch.csv',index = False)    \n",
    "# # Save the model checkpoint\n",
    "# torch.save(model.state_dict(), 'model.ckpt')"
   ]
  },
  {
   "cell_type": "code",
   "execution_count": 13,
   "metadata": {},
   "outputs": [],
   "source": [
    "model.eval()  # eval mode (batchnorm uses moving mean/variance instead of mini-batch mean/variance)\n",
    "ans = torch.cuda.LongTensor() #build a tensor to concatenate answers\n",
    "with torch.no_grad():\n",
    "    correct = 0\n",
    "    total = 0\n",
    "    for images in test_dataloader:\n",
    "        images = images.to(device)\n",
    "        #labels = labels.to(device)\n",
    "        outputs = model(images)\n",
    "        _, predicted = torch.max(outputs.data, 1)\n",
    "        #total += labels.size(0)\n",
    "        #print(total)\n",
    "        #correct += (predicted == labels).sum().item()\n",
    "        ans = torch.cat((ans,predicted),0)\n",
    "\n",
    "    #print('Test Accuracy of the model on the 10000 test images: {} %'.format(100 * correct / total))\n",
    "\n",
    "ans = ans.cpu().numpy() \n",
    "\n",
    "aa = pd.DataFrame(ans)\n",
    "aa.columns = ['Label']\n",
    "Id = range(1,aa.size+1)\n",
    "aa.insert(0, 'ImageId', Id)               #bulid the summit csv\n",
    "\n",
    "aa.to_csv('foo_latest.csv',index = False)    \n",
    "# Save the model checkpoint\n",
    "torch.save(model.state_dict(), 'model.ckpt')"
   ]
  },
  {
   "cell_type": "code",
   "execution_count": null,
   "metadata": {},
   "outputs": [],
   "source": []
  }
 ],
 "metadata": {
  "kernelspec": {
   "display_name": "Python 3",
   "language": "python",
   "name": "python3"
  },
  "language_info": {
   "codemirror_mode": {
    "name": "ipython",
    "version": 3
   },
   "file_extension": ".py",
   "mimetype": "text/x-python",
   "name": "python",
   "nbconvert_exporter": "python",
   "pygments_lexer": "ipython3",
   "version": "3.6.5"
  }
 },
 "nbformat": 4,
 "nbformat_minor": 2
}
